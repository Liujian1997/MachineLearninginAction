{
 "cells": [
  {
   "cell_type": "markdown",
   "metadata": {},
   "source": [
    "# 机器学习实战\n",
    "- Ch01 NumPy函数库"
   ]
  },
  {
   "cell_type": "markdown",
   "metadata": {},
   "source": [
    "## 4x4随机数组"
   ]
  },
  {
   "cell_type": "code",
   "execution_count": 1,
   "metadata": {},
   "outputs": [
    {
     "data": {
      "text/plain": [
       "array([[0.93456641, 0.59304903, 0.13058081, 0.0242313 ],\n",
       "       [0.72811921, 0.72148127, 0.06984023, 0.8866982 ],\n",
       "       [0.92478083, 0.9948156 , 0.99089152, 0.50626664],\n",
       "       [0.8639752 , 0.86496534, 0.14566022, 0.998176  ]])"
      ]
     },
     "execution_count": 1,
     "metadata": {},
     "output_type": "execute_result"
    }
   ],
   "source": [
    "from numpy import *\n",
    "random.rand(4, 4)"
   ]
  },
  {
   "cell_type": "markdown",
   "metadata": {},
   "source": [
    "## 4x4矩阵\n",
    "## 矩阵求逆"
   ]
  },
  {
   "cell_type": "code",
   "execution_count": 2,
   "metadata": {},
   "outputs": [
    {
     "data": {
      "text/plain": [
       "matrix([[-1.25896811, -1.73299276,  1.80747763,  1.37449468],\n",
       "        [-3.3946277 ,  0.0346969 ,  1.22608113,  1.97019716],\n",
       "        [ 1.12641397,  1.24343968, -1.68296433,  0.51230729],\n",
       "        [ 3.39080542,  1.08189665, -0.36719337, -4.04910462]])"
      ]
     },
     "execution_count": 2,
     "metadata": {},
     "output_type": "execute_result"
    }
   ],
   "source": [
    "randMat = mat(random.rand(4, 4))\n",
    "randMat.I"
   ]
  },
  {
   "cell_type": "markdown",
   "metadata": {},
   "source": [
    "## 矩阵*矩阵的逆"
   ]
  },
  {
   "cell_type": "code",
   "execution_count": 3,
   "metadata": {},
   "outputs": [
    {
     "data": {
      "text/plain": [
       "matrix([[ 1.00000000e+00, -2.77091641e-16,  2.04774525e-16,\n",
       "         -2.26471845e-17],\n",
       "        [ 3.96329997e-16,  1.00000000e+00, -1.94585591e-18,\n",
       "          5.95307055e-17],\n",
       "        [ 4.01246030e-16, -6.67674268e-18,  1.00000000e+00,\n",
       "         -2.12149768e-16],\n",
       "        [-7.08008666e-17, -2.51372273e-17,  3.61497537e-16,\n",
       "          1.00000000e+00]])"
      ]
     },
     "execution_count": 3,
     "metadata": {},
     "output_type": "execute_result"
    }
   ],
   "source": [
    "invRandMat = randMat.I\n",
    "randMat*invRandMat"
   ]
  },
  {
   "cell_type": "markdown",
   "metadata": {},
   "source": [
    "## 矩阵简单运算"
   ]
  },
  {
   "cell_type": "code",
   "execution_count": 4,
   "metadata": {},
   "outputs": [
    {
     "data": {
      "text/plain": [
       "matrix([[-1.11022302e-16, -2.77091641e-16,  2.04774525e-16,\n",
       "         -2.26471845e-17],\n",
       "        [ 3.96329997e-16,  0.00000000e+00, -1.94585591e-18,\n",
       "          5.95307055e-17],\n",
       "        [ 4.01246030e-16, -6.67674268e-18,  2.22044605e-16,\n",
       "         -2.12149768e-16],\n",
       "        [-7.08008666e-17, -2.51372273e-17,  3.61497537e-16,\n",
       "          2.22044605e-16]])"
      ]
     },
     "execution_count": 4,
     "metadata": {},
     "output_type": "execute_result"
    }
   ],
   "source": [
    "myEye = randMat*invRandMat\n",
    "# eye为单位矩阵\n",
    "myEye - eye(4)"
   ]
  }
 ],
 "metadata": {
  "interpreter": {
   "hash": "09fe215f7520f68327ff14f462b28ac64924433b3a251c874a1ccf987486fe9d"
  },
  "kernelspec": {
   "display_name": "Python 3.8.4 64-bit",
   "language": "python",
   "name": "python3"
  },
  "language_info": {
   "codemirror_mode": {
    "name": "ipython",
    "version": 3
   },
   "file_extension": ".py",
   "mimetype": "text/x-python",
   "name": "python",
   "nbconvert_exporter": "python",
   "pygments_lexer": "ipython3",
   "version": "3.8.4"
  },
  "orig_nbformat": 4
 },
 "nbformat": 4,
 "nbformat_minor": 2
}
